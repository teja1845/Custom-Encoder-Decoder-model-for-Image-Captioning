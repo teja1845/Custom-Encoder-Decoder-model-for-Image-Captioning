{
 "cells": [
  {
   "cell_type": "markdown",
   "metadata": {},
   "source": [
    "# Deep Learning Assignment 2 - Part C: Model Classifier\n",
    "\n",
    "This notebook covers Part C: Building a BERT-based classifier to identify the source model of a generated caption.\n",
    "\n",
    "## 1. Setup and Imports"
   ]
  },
  {
   "cell_type": "code",
   "execution_count": 9,
   "metadata": {
    "execution": {
     "iopub.execute_input": "2025-04-14T09:39:20.697511Z",
     "iopub.status.busy": "2025-04-14T09:39:20.696814Z",
     "iopub.status.idle": "2025-04-14T09:39:20.701999Z",
     "shell.execute_reply": "2025-04-14T09:39:20.701192Z",
     "shell.execute_reply.started": "2025-04-14T09:39:20.697489Z"
    },
    "trusted": true
   },
   "outputs": [],
   "source": [
    "import pandas as pd\n",
    "import numpy as np\n",
    "import matplotlib.pyplot as plt\n",
    "from sklearn.model_selection import train_test_split\n",
    "import torch\n",
    "from torch import nn\n",
    "from transformers import BertModel, BertTokenizer, BertForSequenceClassification, get_linear_schedule_with_warmup\n",
    "from torch.utils.data import TensorDataset, DataLoader, RandomSampler, SequentialSampler\n",
    "from torch.optim import AdamW\n",
    "from sklearn.metrics import precision_recall_fscore_support, accuracy_score\n",
    "from sklearn.model_selection import train_test_split\n",
    "from tqdm.auto import tqdm\n",
    "import os\n",
    "import time\n",
    "import datetime"
   ]
  },
  {
   "cell_type": "markdown",
   "metadata": {},
   "source": [
    "## 2. Load and Prepare Data"
   ]
  },
  {
   "cell_type": "code",
   "execution_count": 3,
   "metadata": {
    "execution": {
     "iopub.execute_input": "2025-04-14T09:36:28.474554Z",
     "iopub.status.busy": "2025-04-14T09:36:28.474284Z",
     "iopub.status.idle": "2025-04-14T09:36:36.877289Z",
     "shell.execute_reply": "2025-04-14T09:36:36.876415Z",
     "shell.execute_reply.started": "2025-04-14T09:36:28.474532Z"
    },
    "trusted": true
   },
   "outputs": [
    {
     "name": "stdout",
     "output_type": "stream",
     "text": [
      "Downloading...\n",
      "From: https://drive.google.com/uc?id=11KSaN3uj2--eOkvLfMRtFDxxCioPHnVD\n",
      "To: /kaggle/working/final_raw_results.csv\n",
      "100%|███████████████████████████████████████| 2.07M/2.07M [00:00<00:00, 156MB/s]\n"
     ]
    }
   ],
   "source": [
    "!pip install -q gdown\n",
    "\n",
    "# data(from part B) stored in gdrive \n",
    "file_id = \"11KSaN3uj2--eOkvLfMRtFDxxCioPHnVD\"\n",
    "!gdown {file_id} --output final_raw_results.csv"
   ]
  },
  {
   "cell_type": "code",
   "execution_count": 4,
   "metadata": {
    "execution": {
     "iopub.execute_input": "2025-04-14T09:36:44.084753Z",
     "iopub.status.busy": "2025-04-14T09:36:44.084472Z",
     "iopub.status.idle": "2025-04-14T09:36:44.284533Z",
     "shell.execute_reply": "2025-04-14T09:36:44.283926Z",
     "shell.execute_reply.started": "2025-04-14T09:36:44.084731Z"
    },
    "trusted": true
   },
   "outputs": [
    {
     "name": "stdout",
     "output_type": "stream",
     "text": [
      "Loading data from final_raw_results.csv...\n",
      "Loaded 2784 records.\n",
      "\n",
      "Original Data Columns:\n",
      "     image_id                                   original_caption  \\\n",
      "0  test_1.jpg  A large building with bars on the windows in f...   \n",
      "1  test_2.jpg  A person is skiing through the snow. There is ...   \n",
      "2  test_3.jpg  There is a bed in a room against a wall. There...   \n",
      "3  test_4.jpg  A black and red train is on the tracks and has...   \n",
      "4  test_5.jpg  A white and yellow public transportation bus w...   \n",
      "\n",
      "                           generated_caption_smolvlm  \\\n",
      "0  A photo of a building with a parking lot in fr...   \n",
      "1  A skier is skiing down a slope. The skier is w...   \n",
      "2  bedroom with sliding glass doors. The bedroom ...   \n",
      "3  a train is pulling into a station. The train i...   \n",
      "4  A yellow bus with a sign on the front that say...   \n",
      "\n",
      "                            generated_caption_custom  perturbation_percentage  \n",
      "0  This is an image of a street. The street has m...                       10  \n",
      "1  A man is standing on top of a ski slope. He is...                       10  \n",
      "2  There is a bed in a room. There is a white bla...                       10  \n",
      "3  There is a train on the tracks. The train is b...                       10  \n",
      "4  A yellow and white bus is parked on the street...                       10  \n",
      "\n",
      "Created classifier input data with 5568 total examples.\n",
      "\n",
      "Classifier Input Data Format:\n",
      "                                                text  label      image_id\n",
      "0  The image is of a seagull flying in the air in...      0  test_585.jpg\n",
      "1  A man is shaving in the bathroom. He is lookin...      1  test_383.jpg\n",
      "2  This is an image of zebras in the wild. The ze...      1  test_233.jpg\n",
      "3  A boy is sleeping on the couch with a black ca...      1  test_559.jpg\n",
      "4  Four people are sitting around a television se...      1  test_830.jpg\n"
     ]
    }
   ],
   "source": [
    "PART_B_OUTPUT_FILE = \"final_raw_results.csv\" \n",
    "SEPARATOR = \" <SEP> \"\n",
    "\n",
    "LABEL_SMOLVLM = 0\n",
    "LABEL_CUSTOM = 1\n",
    "\n",
    "try:\n",
    "    print(f\"Loading data from {PART_B_OUTPUT_FILE}...\")\n",
    "    df_in = pd.read_csv(PART_B_OUTPUT_FILE)\n",
    "    print(f\"Loaded {len(df_in)} records.\")\n",
    "    # Display first few rows to check columns\n",
    "    print(\"\\nOriginal Data Columns:\")\n",
    "    print(df_in.head())\n",
    "except FileNotFoundError:\n",
    "    print(f\"Error: Cannot find the input file '{PART_B_OUTPUT_FILE}'. Please ensure it exists.\")\n",
    "    df_in = None\n",
    "\n",
    "classifier_data = []\n",
    "\n",
    "for index, row in df_in.iterrows():\n",
    "    input_text_smol = f\"{row['original_caption']}{SEPARATOR}{row['generated_caption_smolvlm']}{SEPARATOR}{row['perturbation_percentage']}\"\n",
    "    classifier_data.append({'text': input_text_smol, 'label': LABEL_SMOLVLM, 'image_id': row['image_id']})\n",
    "\n",
    "    input_text_custom = f\"{row['original_caption']}{SEPARATOR}{row['generated_caption_custom']}{SEPARATOR}{row['perturbation_percentage']}\"\n",
    "    classifier_data.append({'text': input_text_custom, 'label': LABEL_CUSTOM, 'image_id': row['image_id']})\n",
    "\n",
    "# to df\n",
    "df_classifier_input = pd.DataFrame(classifier_data)\n",
    "\n",
    "# just shuffle it \n",
    "df_classifier_input = df_classifier_input.sample(frac=1, random_state=42).reset_index(drop=True) # Use a fixed random state for reproducibility\n",
    "\n",
    "print(f\"\\nCreated classifier input data with {len(df_classifier_input)} total examples.\")\n",
    "print(\"\\nClassifier Input Data Format:\")\n",
    "print(df_classifier_input.head())"
   ]
  },
  {
   "cell_type": "markdown",
   "metadata": {},
   "source": [
    "## 3. Split Data (Train/Validation/Test)\n",
    "\n",
    "Split the data into 70% train, 10% validation, and 20% test sets."
   ]
  },
  {
   "cell_type": "code",
   "execution_count": 5,
   "metadata": {
    "execution": {
     "iopub.execute_input": "2025-04-14T09:36:48.622509Z",
     "iopub.status.busy": "2025-04-14T09:36:48.622010Z",
     "iopub.status.idle": "2025-04-14T09:36:48.637169Z",
     "shell.execute_reply": "2025-04-14T09:36:48.636552Z",
     "shell.execute_reply.started": "2025-04-14T09:36:48.622484Z"
    },
    "trusted": true
   },
   "outputs": [],
   "source": [
    "unique_image_ids = df_classifier_input['image_id'].unique()\n",
    "\n",
    "train_ratio = 0.70\n",
    "val_ratio = 0.10\n",
    "test_ratio = 0.20\n",
    "\n",
    "train_ids, temp_ids = train_test_split(\n",
    "    unique_image_ids,\n",
    "    test_size=(1 - train_ratio), \n",
    "    random_state=42 \n",
    ")\n",
    "\n",
    "rel_test_ratio = test_ratio / (val_ratio + test_ratio)\n",
    "val_ids, test_ids = train_test_split(\n",
    "    temp_ids,\n",
    "    test_size=rel_test_ratio, \n",
    "    random_state=42 \n",
    ")\n",
    "\n",
    "train_df = df_classifier_input[df_classifier_input['image_id'].isin(train_ids)].reset_index(drop=True)\n",
    "val_df = df_classifier_input[df_classifier_input['image_id'].isin(val_ids)].reset_index(drop=True)\n",
    "test_df = df_classifier_input[df_classifier_input['image_id'].isin(test_ids)].reset_index(drop=True)"
   ]
  },
  {
   "cell_type": "markdown",
   "metadata": {},
   "source": [
    "## 4. Tokenization\n",
    "\n",
    "Tokenize the input text for BERT using the `google-bert/bert-base-uncased` tokenizer.\n",
    "We need to process the `text` column from our train, validation, and test sets."
   ]
  },
  {
   "cell_type": "code",
   "execution_count": null,
   "metadata": {
    "execution": {
     "iopub.execute_input": "2025-04-14T09:36:52.259172Z",
     "iopub.status.busy": "2025-04-14T09:36:52.258901Z",
     "iopub.status.idle": "2025-04-14T09:37:03.749337Z",
     "shell.execute_reply": "2025-04-14T09:37:03.748720Z",
     "shell.execute_reply.started": "2025-04-14T09:36:52.259155Z"
    },
    "trusted": true
   },
   "outputs": [
    {
     "data": {
      "application/vnd.jupyter.widget-view+json": {
       "model_id": "79831c1c4d9b47a5b54c048909585091",
       "version_major": 2,
       "version_minor": 0
      },
      "text/plain": [
       "tokenizer_config.json:   0%|          | 0.00/48.0 [00:00<?, ?B/s]"
      ]
     },
     "metadata": {},
     "output_type": "display_data"
    },
    {
     "data": {
      "application/vnd.jupyter.widget-view+json": {
       "model_id": "20f8c8e11d2e44df86b5530f5fa2ce50",
       "version_major": 2,
       "version_minor": 0
      },
      "text/plain": [
       "vocab.txt:   0%|          | 0.00/232k [00:00<?, ?B/s]"
      ]
     },
     "metadata": {},
     "output_type": "display_data"
    },
    {
     "data": {
      "application/vnd.jupyter.widget-view+json": {
       "model_id": "720d0500b7dd4285ac729eac9cafc689",
       "version_major": 2,
       "version_minor": 0
      },
      "text/plain": [
       "tokenizer.json:   0%|          | 0.00/466k [00:00<?, ?B/s]"
      ]
     },
     "metadata": {},
     "output_type": "display_data"
    },
    {
     "data": {
      "application/vnd.jupyter.widget-view+json": {
       "model_id": "7bd0bd7222b84c8788e1367a9627123f",
       "version_major": 2,
       "version_minor": 0
      },
      "text/plain": [
       "config.json:   0%|          | 0.00/570 [00:00<?, ?B/s]"
      ]
     },
     "metadata": {},
     "output_type": "display_data"
    },
    {
     "name": "stdout",
     "output_type": "stream",
     "text": [
      "Tokenization done!\n",
      "\n"
     ]
    }
   ],
   "source": [
    "tokenizer = BertTokenizer.from_pretrained('google-bert/bert-base-uncased', do_lower_case=True)\n",
    "\n",
    "MAX_LEN = 256\n",
    "\n",
    "def batch_tokenize(df, text_column='text', label_column='label'):\n",
    "    \"\"\"Helper function to tokenize a dataframe.\"\"\"\n",
    "    texts_list = [str(text) if pd.notna(text) else \"\" for text in df[text_column].tolist()]\n",
    "    encoded_batch = tokenizer.batch_encode_plus(\n",
    "        texts_list,              \n",
    "        add_special_tokens=True,\n",
    "        max_length=MAX_LEN,\n",
    "        padding='max_length',\n",
    "        truncation=True,\n",
    "        return_attention_mask=True,\n",
    "        return_tensors='pt',\n",
    "   )\n",
    "    labels = torch.tensor(df[label_column].tolist())\n",
    "    return encoded_batch['input_ids'], encoded_batch['attention_mask'], labels\n",
    "\n",
    "\n",
    "train_input_ids, train_attention_mask, train_labels = batch_tokenize(train_df)\n",
    "val_input_ids, val_attention_mask, val_labels = batch_tokenize(val_df)\n",
    "test_input_ids, test_attention_mask, test_labels = batch_tokenize(test_df)\n",
    "print(f\"Tokenization done!\\n\")"
   ]
  },
  {
   "cell_type": "markdown",
   "metadata": {},
   "source": [
    "## 5. Setting up DataLoaders\n",
    "\n",
    "Creating DataLoader objects for the training, validation, and testing sets to handle batching during model training and evaluation.\n"
   ]
  },
  {
   "cell_type": "code",
   "execution_count": 7,
   "metadata": {
    "execution": {
     "iopub.execute_input": "2025-04-14T09:37:09.107207Z",
     "iopub.status.busy": "2025-04-14T09:37:09.106926Z",
     "iopub.status.idle": "2025-04-14T09:37:09.114630Z",
     "shell.execute_reply": "2025-04-14T09:37:09.113871Z",
     "shell.execute_reply.started": "2025-04-14T09:37:09.107186Z"
    },
    "trusted": true
   },
   "outputs": [
    {
     "name": "stdout",
     "output_type": "stream",
     "text": [
      "Created DataLoaders:\n",
      "  Train DataLoader: 244 batches\n",
      "  Validation DataLoader: 35 batches\n",
      "  Test DataLoader: 70 batches\n"
     ]
    }
   ],
   "source": [
    "BATCH_SIZE = 16  \n",
    "\n",
    "train_dataset = TensorDataset(train_input_ids, train_attention_mask, train_labels)\n",
    "val_dataset = TensorDataset(val_input_ids, val_attention_mask, val_labels)\n",
    "test_dataset = TensorDataset(test_input_ids, test_attention_mask, test_labels)\n",
    "\n",
    "train_dataloader = DataLoader(train_dataset, sampler=RandomSampler(train_dataset), batch_size=BATCH_SIZE)\n",
    "\n",
    "validation_dataloader = DataLoader(val_dataset, sampler=SequentialSampler(val_dataset), batch_size=BATCH_SIZE)\n",
    "test_dataloader = DataLoader(test_dataset, sampler=SequentialSampler(test_dataset), batch_size=BATCH_SIZE)\n",
    "\n",
    "print(\"Created DataLoaders:\")\n",
    "print(f\"  Train DataLoader: {len(train_dataloader)} batches\")\n",
    "print(f\"  Validation DataLoader: {len(validation_dataloader)} batches\")\n",
    "print(f\"  Test DataLoader: {len(test_dataloader)} batches\")"
   ]
  },
  {
   "cell_type": "markdown",
   "metadata": {},
   "source": [
    "## 6. Classifier Model\n",
    "\n",
    "Define the custom BERT-based classifier model architecture as required by the assignment.\n",
    "It uses the pre-trained 'google-bert/bert-base-uncased' model and adds a classification head.\n"
   ]
  },
  {
   "cell_type": "code",
   "execution_count": 8,
   "metadata": {
    "execution": {
     "iopub.execute_input": "2025-04-14T09:37:12.108641Z",
     "iopub.status.busy": "2025-04-14T09:37:12.108351Z",
     "iopub.status.idle": "2025-04-14T09:37:12.114341Z",
     "shell.execute_reply": "2025-04-14T09:37:12.113633Z",
     "shell.execute_reply.started": "2025-04-14T09:37:12.108613Z"
    },
    "trusted": true
   },
   "outputs": [],
   "source": [
    "class CaptionClassifier(nn.Module):\n",
    "    def __init__(self, bert_model_name='google-bert/bert-base-uncased', num_classes=2):\n",
    "        super(CaptionClassifier, self).__init__()\n",
    "        self.bert = BertModel.from_pretrained(bert_model_name)\n",
    "\n",
    "        self.dropout = nn.Dropout(self.bert.config.hidden_dropout_prob if hasattr(self.bert.config, 'hidden_dropout_prob') else 0.1)\n",
    "        self.classifier = nn.Linear(self.bert.config.hidden_size, num_classes)\n",
    "        \n",
    "\n",
    "    def forward(self, input_ids, attention_mask):\n",
    "        outputs = self.bert(\n",
    "            input_ids=input_ids,\n",
    "            attention_mask=attention_mask\n",
    "        )\n",
    "\n",
    "        pooled_output = outputs.pooler_output\n",
    "        output = self.dropout(pooled_output)\n",
    "        logits = self.classifier(output)\n",
    "\n",
    "        return logits"
   ]
  },
  {
   "cell_type": "markdown",
   "metadata": {},
   "source": [
    "## 7. Define Training and Evaluation Functions \n",
    "#### (`train_classifier`, `evaluate_classifier`)\n",
    "\n",
    "Define the required functions for training and evaluating the classifier model."
   ]
  },
  {
   "cell_type": "code",
   "execution_count": 10,
   "metadata": {
    "execution": {
     "iopub.execute_input": "2025-04-14T09:39:26.671717Z",
     "iopub.status.busy": "2025-04-14T09:39:26.671083Z",
     "iopub.status.idle": "2025-04-14T09:39:26.682342Z",
     "shell.execute_reply": "2025-04-14T09:39:26.681726Z",
     "shell.execute_reply.started": "2025-04-14T09:39:26.671692Z"
    },
    "trusted": true
   },
   "outputs": [],
   "source": [
    "def train_classifier(model, dataloader, optimizer, criterion, device, epochs):\n",
    "    print(f\"\\nStarting Training for {epochs} epochs\")\n",
    "    global validation_dataloader\n",
    "    global scheduler\n",
    "\n",
    "    training_stats = []\n",
    "\n",
    "    for epoch_i in range(0, epochs):\n",
    "        print(f\"Training {epoch_i+1}\")\n",
    "        total_train_loss = 0\n",
    "        model.train()\n",
    "\n",
    "        progress_bar = tqdm(dataloader, desc=f\"  Epoch {epoch_i+1} Training\", leave=False)\n",
    "        for step, batch in enumerate(progress_bar):\n",
    "\n",
    "            b_input_ids = batch[0].to(device)\n",
    "            b_input_mask = batch[1].to(device)\n",
    "            b_labels = batch[2].to(device)\n",
    "\n",
    "            model.zero_grad()\n",
    "            logits = model(input_ids=b_input_ids, attention_mask=b_input_mask)\n",
    "            loss = criterion(logits, b_labels) # Use the passed 'criterion'\n",
    "            total_train_loss += loss.item()\n",
    "            loss.backward()\n",
    "            torch.nn.utils.clip_grad_norm_(model.parameters(), 1.0)\n",
    "            optimizer.step()\n",
    "            if 'scheduler' in globals() and scheduler is not None:\n",
    "                 scheduler.step()\n",
    "            progress_bar.set_postfix({'loss': loss.item()})    \n",
    "\n",
    "\n",
    "        avg_train_loss = total_train_loss / len(dataloader)\n",
    "        print(f\"\\n    Average training loss: {avg_train_loss:.4f}\")\n",
    "\n",
    "        if 'validation_dataloader' in globals() and validation_dataloader is not None:\n",
    "            print(\"\\nRunning Validation...\")\n",
    "            model.eval() \n",
    "            total_eval_accuracy = 0\n",
    "            total_eval_loss = 0\n",
    "\n",
    "            val_progress_bar = tqdm(validation_dataloader, desc=f\"  Epoch {epoch_i+1} Validation\", leave=False)\n",
    "            for batch in val_progress_bar: \n",
    "                b_input_ids = batch[0].to(device)\n",
    "                b_input_mask = batch[1].to(device)\n",
    "                b_labels = batch[2].to(device)\n",
    "\n",
    "                with torch.no_grad():\n",
    "                    logits = model(input_ids=b_input_ids, attention_mask=b_input_mask)\n",
    "\n",
    "                loss = criterion(logits, b_labels) \n",
    "                total_eval_loss += loss.item()\n",
    "                preds = torch.argmax(logits, dim=1).flatten()\n",
    "                accuracy = (preds == b_labels).cpu().numpy().mean() * 100\n",
    "                total_eval_accuracy += accuracy\n",
    "\n",
    "            avg_val_accuracy = total_eval_accuracy / len(validation_dataloader)\n",
    "            avg_val_loss = total_eval_loss / len(validation_dataloader)\n",
    "\n",
    "            print(f\"    Validation Loss: {avg_val_loss:.4f}\")\n",
    "            print(f\"    Validation Accuracy: {avg_val_accuracy:.2f}%\")\n",
    "\n",
    "            training_stats.append({\n",
    "                'epoch': epoch_i + 1, 'Training Loss': avg_train_loss,\n",
    "                'Valid. Loss': avg_val_loss, 'Valid. Accur.': avg_val_accuracy\n",
    "            })\n",
    "\n",
    "    print(\"\\nTraining complete!\\n\")\n",
    "    print(\"\\n Training vs. Validation Loss...\")\n",
    "    try:\n",
    "        train_loss_values = [stat['Training Loss'] for stat in training_stats]\n",
    "        val_loss_values = [stat['Valid. Loss'] for stat in training_stats]\n",
    "        epochs_range = range(1, epochs + 1)\n",
    "\n",
    "        plt.figure(figsize=(10, 5))\n",
    "        plt.plot(epochs_range, train_loss_values, 'b-o', label=\"Training Loss\")\n",
    "        plt.plot(epochs_range, val_loss_values, 'g-o', label=\"Validation Loss\")\n",
    "\n",
    "        plt.title(\"Training vs. Validation Loss\")\n",
    "        plt.xlabel(\"Epoch\")\n",
    "        plt.ylabel(\"Loss\")\n",
    "        plt.legend()\n",
    "        plt.xticks(epochs_range) \n",
    "        plt.grid(True)\n",
    "        plt.show()\n",
    "    except Exception as e:\n",
    "        print(f\"Could not create plot. Error: {e}\")\n",
    "        print(\"Collected stats:\", training_stats)"
   ]
  },
  {
   "cell_type": "code",
   "execution_count": 11,
   "metadata": {
    "execution": {
     "iopub.execute_input": "2025-04-14T09:39:38.659609Z",
     "iopub.status.busy": "2025-04-14T09:39:38.659335Z",
     "iopub.status.idle": "2025-04-14T09:39:38.665469Z",
     "shell.execute_reply": "2025-04-14T09:39:38.664808Z",
     "shell.execute_reply.started": "2025-04-14T09:39:38.659588Z"
    },
    "trusted": true
   },
   "outputs": [],
   "source": [
    "def evaluate_classifier(model, dataloader, device):\n",
    "    model.eval() \n",
    "    predictions = []\n",
    "    actual_labels = []\n",
    "    t0 = time.time()\n",
    "    \n",
    "    eval_progress_bar = tqdm(dataloader, desc=\"  Testing\", leave=False)\n",
    "    for batch in eval_progress_bar: \n",
    "        batch = tuple(t.to(device) for t in batch)\n",
    "        b_input_ids, b_input_mask, b_labels = batch\n",
    "\n",
    "        with torch.no_grad():\n",
    "            logits = model(input_ids=b_input_ids, attention_mask=b_input_mask)\n",
    "\n",
    "        logits = logits.detach().cpu().numpy()\n",
    "        label_ids = b_labels.to('cpu').numpy()\n",
    "\n",
    "        preds = np.argmax(logits, axis=1).flatten()\n",
    "        predictions.extend(preds)\n",
    "        actual_labels.extend(label_ids)\n",
    "\n",
    "    precision, recall, f1, _ = precision_recall_fscore_support(\n",
    "        actual_labels, predictions, average='macro', zero_division=0\n",
    "    )\n",
    "    accuracy = accuracy_score(actual_labels, predictions) \n",
    "\n",
    "    results = {\n",
    "        \"macro_precision\": precision,\n",
    "        \"macro_recall\": recall,\n",
    "        \"macro_f1\": f1,\n",
    "        \"accuracy\": accuracy \n",
    "    }\n",
    "    return results"
   ]
  },
  {
   "cell_type": "markdown",
   "metadata": {},
   "source": [
    "### Hyperparameters\n"
   ]
  },
  {
   "cell_type": "code",
   "execution_count": 16,
   "metadata": {
    "execution": {
     "iopub.execute_input": "2025-04-14T09:40:35.973498Z",
     "iopub.status.busy": "2025-04-14T09:40:35.972970Z",
     "iopub.status.idle": "2025-04-14T09:40:35.977238Z",
     "shell.execute_reply": "2025-04-14T09:40:35.976419Z",
     "shell.execute_reply.started": "2025-04-14T09:40:35.973475Z"
    },
    "trusted": true
   },
   "outputs": [],
   "source": [
    "NUM_EPOCHS = 5\n",
    "LEARNING_RATE = 2e-5\n",
    "EPSILON = 1e-8\n",
    "BATCH_SIZE = 16\n",
    "SEED_VAL = 42\n",
    "\n",
    "DEVICE = torch.device(\"cuda\" if torch.cuda.is_available() else \"cpu\")"
   ]
  },
  {
   "cell_type": "code",
   "execution_count": 17,
   "metadata": {
    "execution": {
     "iopub.execute_input": "2025-04-14T09:40:37.664598Z",
     "iopub.status.busy": "2025-04-14T09:40:37.664108Z",
     "iopub.status.idle": "2025-04-14T09:40:40.532588Z",
     "shell.execute_reply": "2025-04-14T09:40:40.531856Z",
     "shell.execute_reply.started": "2025-04-14T09:40:37.664574Z"
    },
    "trusted": true
   },
   "outputs": [
    {
     "name": "stdout",
     "output_type": "stream",
     "text": [
      "Requirement already satisfied: hf_xet in /usr/local/lib/python3.11/dist-packages (1.0.3)\n"
     ]
    }
   ],
   "source": [
    "!pip install hf_xet"
   ]
  },
  {
   "cell_type": "code",
   "execution_count": 18,
   "metadata": {
    "execution": {
     "iopub.execute_input": "2025-04-14T09:40:40.534884Z",
     "iopub.status.busy": "2025-04-14T09:40:40.534043Z",
     "iopub.status.idle": "2025-04-14T09:40:41.205673Z",
     "shell.execute_reply": "2025-04-14T09:40:41.204950Z",
     "shell.execute_reply.started": "2025-04-14T09:40:40.534858Z"
    },
    "trusted": true
   },
   "outputs": [],
   "source": [
    "num_classes = 2\n",
    "classifier_model = CaptionClassifier(bert_model_name='google-bert/bert-base-uncased', num_classes=num_classes)\n",
    "classifier_model.to(DEVICE)\n",
    "\n",
    "optimizer = AdamW(classifier_model.parameters(), lr = LEARNING_RATE, eps = EPSILON)\n",
    "\n",
    "total_steps = len(train_dataloader) * NUM_EPOCHS\n",
    "scheduler = get_linear_schedule_with_warmup(optimizer, num_warmup_steps = 0, num_training_steps = total_steps)\n",
    "criterion = nn.CrossEntropyLoss()"
   ]
  },
  {
   "cell_type": "markdown",
   "metadata": {},
   "source": [
    "## 8. Train the Classifier"
   ]
  },
  {
   "cell_type": "code",
   "execution_count": 19,
   "metadata": {
    "execution": {
     "iopub.execute_input": "2025-04-14T09:40:43.035529Z",
     "iopub.status.busy": "2025-04-14T09:40:43.035254Z",
     "iopub.status.idle": "2025-04-14T09:49:40.015250Z",
     "shell.execute_reply": "2025-04-14T09:49:40.014366Z",
     "shell.execute_reply.started": "2025-04-14T09:40:43.035510Z"
    },
    "trusted": true
   },
   "outputs": [
    {
     "name": "stdout",
     "output_type": "stream",
     "text": [
      "\n",
      "Starting Training for 5 epochs\n",
      "Training 1\n"
     ]
    },
    {
     "data": {
      "application/vnd.jupyter.widget-view+json": {
       "model_id": "",
       "version_major": 2,
       "version_minor": 0
      },
      "text/plain": [
       "  Epoch 1 Training:   0%|          | 0/244 [00:00<?, ?it/s]"
      ]
     },
     "metadata": {},
     "output_type": "display_data"
    },
    {
     "name": "stdout",
     "output_type": "stream",
     "text": [
      "\n",
      "    Average training loss: 0.1823\n",
      "\n",
      "Running Validation...\n"
     ]
    },
    {
     "data": {
      "application/vnd.jupyter.widget-view+json": {
       "model_id": "",
       "version_major": 2,
       "version_minor": 0
      },
      "text/plain": [
       "  Epoch 1 Validation:   0%|          | 0/35 [00:00<?, ?it/s]"
      ]
     },
     "metadata": {},
     "output_type": "display_data"
    },
    {
     "name": "stdout",
     "output_type": "stream",
     "text": [
      "    Validation Loss: 0.1581\n",
      "    Validation Accuracy: 96.22%\n",
      "Training 2\n"
     ]
    },
    {
     "data": {
      "application/vnd.jupyter.widget-view+json": {
       "model_id": "",
       "version_major": 2,
       "version_minor": 0
      },
      "text/plain": [
       "  Epoch 2 Training:   0%|          | 0/244 [00:00<?, ?it/s]"
      ]
     },
     "metadata": {},
     "output_type": "display_data"
    },
    {
     "name": "stdout",
     "output_type": "stream",
     "text": [
      "\n",
      "    Average training loss: 0.0214\n",
      "\n",
      "Running Validation...\n"
     ]
    },
    {
     "data": {
      "application/vnd.jupyter.widget-view+json": {
       "model_id": "",
       "version_major": 2,
       "version_minor": 0
      },
      "text/plain": [
       "  Epoch 2 Validation:   0%|          | 0/35 [00:00<?, ?it/s]"
      ]
     },
     "metadata": {},
     "output_type": "display_data"
    },
    {
     "name": "stdout",
     "output_type": "stream",
     "text": [
      "    Validation Loss: 0.2367\n",
      "    Validation Accuracy: 96.22%\n",
      "Training 3\n"
     ]
    },
    {
     "data": {
      "application/vnd.jupyter.widget-view+json": {
       "model_id": "",
       "version_major": 2,
       "version_minor": 0
      },
      "text/plain": [
       "  Epoch 3 Training:   0%|          | 0/244 [00:00<?, ?it/s]"
      ]
     },
     "metadata": {},
     "output_type": "display_data"
    },
    {
     "name": "stdout",
     "output_type": "stream",
     "text": [
      "\n",
      "    Average training loss: 0.0107\n",
      "\n",
      "Running Validation...\n"
     ]
    },
    {
     "data": {
      "application/vnd.jupyter.widget-view+json": {
       "model_id": "",
       "version_major": 2,
       "version_minor": 0
      },
      "text/plain": [
       "  Epoch 3 Validation:   0%|          | 0/35 [00:00<?, ?it/s]"
      ]
     },
     "metadata": {},
     "output_type": "display_data"
    },
    {
     "name": "stdout",
     "output_type": "stream",
     "text": [
      "    Validation Loss: 0.2095\n",
      "    Validation Accuracy: 96.76%\n",
      "Training 4\n"
     ]
    },
    {
     "data": {
      "application/vnd.jupyter.widget-view+json": {
       "model_id": "",
       "version_major": 2,
       "version_minor": 0
      },
      "text/plain": [
       "  Epoch 4 Training:   0%|          | 0/244 [00:00<?, ?it/s]"
      ]
     },
     "metadata": {},
     "output_type": "display_data"
    },
    {
     "name": "stdout",
     "output_type": "stream",
     "text": [
      "\n",
      "    Average training loss: 0.0004\n",
      "\n",
      "Running Validation...\n"
     ]
    },
    {
     "data": {
      "application/vnd.jupyter.widget-view+json": {
       "model_id": "",
       "version_major": 2,
       "version_minor": 0
      },
      "text/plain": [
       "  Epoch 4 Validation:   0%|          | 0/35 [00:00<?, ?it/s]"
      ]
     },
     "metadata": {},
     "output_type": "display_data"
    },
    {
     "name": "stdout",
     "output_type": "stream",
     "text": [
      "    Validation Loss: 0.1026\n",
      "    Validation Accuracy: 98.55%\n",
      "Training 5\n"
     ]
    },
    {
     "data": {
      "application/vnd.jupyter.widget-view+json": {
       "model_id": "",
       "version_major": 2,
       "version_minor": 0
      },
      "text/plain": [
       "  Epoch 5 Training:   0%|          | 0/244 [00:00<?, ?it/s]"
      ]
     },
     "metadata": {},
     "output_type": "display_data"
    },
    {
     "name": "stdout",
     "output_type": "stream",
     "text": [
      "\n",
      "    Average training loss: 0.0002\n",
      "\n",
      "Running Validation...\n"
     ]
    },
    {
     "data": {
      "application/vnd.jupyter.widget-view+json": {
       "model_id": "",
       "version_major": 2,
       "version_minor": 0
      },
      "text/plain": [
       "  Epoch 5 Validation:   0%|          | 0/35 [00:00<?, ?it/s]"
      ]
     },
     "metadata": {},
     "output_type": "display_data"
    },
    {
     "name": "stdout",
     "output_type": "stream",
     "text": [
      "    Validation Loss: 0.1003\n",
      "    Validation Accuracy: 98.55%\n",
      "\n",
      "Training complete!\n",
      "\n",
      "\n",
      " Training vs. Validation Loss...\n"
     ]
    },
    {
     "data": {
      "image/png": "[encoded data removed]",
      "text/plain": [
       "<Figure size 1000x500 with 1 Axes>"
      ]
     },
     "metadata": {},
     "output_type": "display_data"
    },
    {
     "name": "stdout",
     "output_type": "stream",
     "text": [
      "\n",
      "Saving trained model state to bert_caption_classifier_final.pth...\n",
      "Model saved successfully.\n"
     ]
    }
   ],
   "source": [
    "train_classifier(\n",
    "    model=classifier_model,\n",
    "    dataloader=train_dataloader,\n",
    "    optimizer=optimizer,\n",
    "    criterion=criterion,     \n",
    "    device=DEVICE,\n",
    "    epochs=NUM_EPOCHS\n",
    ")\n",
    "\n",
    "output_model_file = \"bert_caption_classifier_final.pth\"\n",
    "print(f\"\\nSaving trained model state to {output_model_file}...\")\n",
    "torch.save(classifier_model.state_dict(), output_model_file)\n",
    "print(\"Model saved successfully.\")"
   ]
  },
  {
   "cell_type": "code",
   "execution_count": 20,
   "metadata": {
    "execution": {
     "iopub.execute_input": "2025-04-14T09:50:13.362785Z",
     "iopub.status.busy": "2025-04-14T09:50:13.362505Z",
     "iopub.status.idle": "2025-04-14T09:50:20.995036Z",
     "shell.execute_reply": "2025-04-14T09:50:20.994451Z",
     "shell.execute_reply.started": "2025-04-14T09:50:13.362765Z"
    },
    "trusted": true
   },
   "outputs": [
    {
     "data": {
      "application/vnd.jupyter.widget-view+json": {
       "model_id": "",
       "version_major": 2,
       "version_minor": 0
      },
      "text/plain": [
       "  Testing:   0%|          | 0/70 [00:00<?, ?it/s]"
      ]
     },
     "metadata": {},
     "output_type": "display_data"
    },
    {
     "name": "stdout",
     "output_type": "stream",
     "text": [
      "  Macro Precision: 0.9861\n",
      "  Macro Recall: 0.9857\n",
      "  Macro F1: 0.9857\n",
      "  Accuracy: 0.9857\n"
     ]
    }
   ],
   "source": [
    "test_results = evaluate_classifier(\n",
    "    model=classifier_model,\n",
    "    dataloader=test_dataloader,\n",
    "    device=DEVICE\n",
    ")\n",
    "\n",
    "for key, value in test_results.items():\n",
    "    print(f\"  {key.replace('_', ' ').title()}: {value:.4f}\")"
   ]
  }
 ],
 "metadata": {
  "kaggle": {
   "accelerator": "gpu",
   "dataSources": [],
   "dockerImageVersionId": 31011,
   "isGpuEnabled": true,
   "isInternetEnabled": true,
   "language": "python",
   "sourceType": "notebook"
  },
  "kernelspec": {
   "display_name": "Python 3",
   "language": "python",
   "name": "python3"
  },
  "language_info": {
   "codemirror_mode": {
    "name": "ipython",
    "version": 3
   },
   "file_extension": ".py",
   "mimetype": "text/x-python",
   "name": "python",
   "nbconvert_exporter": "python",
   "pygments_lexer": "ipython3",
   "version": "3.11.11"
  }
 },
 "nbformat": 4,
 "nbformat_minor": 4
}
